{
 "cells": [
  {
   "cell_type": "code",
   "execution_count": 5,
   "id": "797bb573",
   "metadata": {},
   "outputs": [
    {
     "name": "stdout",
     "output_type": "stream",
     "text": [
      "     TurId;Dato;Fylke;Område;Kommune;Holdeplass_Fra;Holdeplass_Til;Linjetype;Linjefylke;Linjenavn;Linjeretning;Tidspunkt_Faktisk_Ankomst_Holdeplass_Fra;Tidspunkt_Faktisk_Avgang_Holdeplass_Fra;Tidspunkt_Planlagt_Ankomst_Holdeplass_Fra;Tidspunkt_Planlagt_Avgang_Holdeplass_Fra;Kjøretøy_Kapasitet;Passasjerer_Ombord\n",
      "0     15006-2020-08-10T10:24:00+02:00;10/08/2020;Vik...                                                                                                                                                                                                                                                                 \n",
      "1     15002-2020-08-15T12:54:00+02:00;15/08/2020;Vik...                                                                                                                                                                                                                                                                 \n",
      "2     15004-2020-08-03T09:54:00+02:00;03/08/2020;Vik...                                                                                                                                                                                                                                                                 \n",
      "3     15003-2020-07-27T13:00:00+02:00;27/07/2020;Vik...                                                                                                                                                                                                                                                                 \n",
      "4     15002-2020-08-27T07:15:00+02:00;27/08/2020;Vik...                                                                                                                                                                                                                                                                 \n",
      "...                                                 ...                                                                                                                                                                                                                                                                 \n",
      "5973  10001-2020-06-10T15:10:00+02:00;10/06/2020;Vik...                                                                                                                                                                                                                                                                 \n",
      "5974  10010-2020-06-23T05:54:00+02:00;23/06/2020;Vik...                                                                                                                                                                                                                                                                 \n",
      "5975  2007-2020-06-11T17:22:00+02:00;11/06/2020;Oslo...                                                                                                                                                                                                                                                                 \n",
      "5976  10004-2020-08-13T04:59:00+02:00;13/08/2020;Osl...                                                                                                                                                                                                                                                                 \n",
      "5977  34013-2020-08-05T13:31:00+02:00;05/08/2020;Vik...                                                                                                                                                                                                                                                                 \n",
      "\n",
      "[5978 rows x 1 columns]\n"
     ]
    },
    {
     "name": "stderr",
     "output_type": "stream",
     "text": [
      "b'Skipping line 769: expected 1 fields, saw 2\\nSkipping line 1870: expected 1 fields, saw 2\\nSkipping line 2333: expected 1 fields, saw 2\\nSkipping line 2979: expected 1 fields, saw 2\\nSkipping line 3120: expected 1 fields, saw 2\\nSkipping line 3207: expected 1 fields, saw 2\\nSkipping line 3216: expected 1 fields, saw 2\\nSkipping line 3461: expected 1 fields, saw 2\\nSkipping line 3510: expected 1 fields, saw 2\\nSkipping line 3975: expected 1 fields, saw 2\\nSkipping line 4161: expected 1 fields, saw 2\\nSkipping line 4176: expected 1 fields, saw 2\\nSkipping line 4307: expected 1 fields, saw 2\\nSkipping line 4357: expected 1 fields, saw 2\\nSkipping line 4660: expected 1 fields, saw 2\\nSkipping line 4840: expected 1 fields, saw 2\\nSkipping line 5026: expected 1 fields, saw 2\\nSkipping line 5288: expected 1 fields, saw 2\\nSkipping line 5595: expected 1 fields, saw 2\\nSkipping line 5769: expected 1 fields, saw 2\\nSkipping line 5803: expected 1 fields, saw 2\\nSkipping line 5950: expected 1 fields, saw 2\\n'\n"
     ]
    }
   ],
   "source": [
    "%matplotlib inline\n",
    "import pandas as pd\n",
    "import numpy as np\n",
    "from scipy import stats\n",
    "import matplotlib as plt\n",
    "df = pd.read_csv (r'C:\\Users\\tauqe\\Documents\\Python33\\assignment1\\Ruter_data.csv',error_bad_lines=False)\n",
    "print (df)\n"
   ]
  },
  {
   "cell_type": "code",
   "execution_count": 6,
   "id": "c5fa971b",
   "metadata": {},
   "outputs": [
    {
     "name": "stdout",
     "output_type": "stream",
     "text": [
      "      Dato  Fylke  Område  Kommune  TurId\n",
      "0      NaN    NaN     NaN      NaN    NaN\n",
      "1      NaN    NaN     NaN      NaN    NaN\n",
      "2      NaN    NaN     NaN      NaN    NaN\n",
      "3      NaN    NaN     NaN      NaN    NaN\n",
      "4      NaN    NaN     NaN      NaN    NaN\n",
      "...    ...    ...     ...      ...    ...\n",
      "5973   NaN    NaN     NaN      NaN    NaN\n",
      "5974   NaN    NaN     NaN      NaN    NaN\n",
      "5975   NaN    NaN     NaN      NaN    NaN\n",
      "5976   NaN    NaN     NaN      NaN    NaN\n",
      "5977   NaN    NaN     NaN      NaN    NaN\n",
      "\n",
      "[5978 rows x 5 columns]\n"
     ]
    }
   ],
   "source": [
    "\n",
    "df = pd.DataFrame(data, columns= ['Dato','Fylke','Område','Kommune','TurId'])\n",
    "print (df)\n"
   ]
  },
  {
   "cell_type": "code",
   "execution_count": null,
   "id": "24b7ed7d",
   "metadata": {},
   "outputs": [],
   "source": []
  }
 ],
 "metadata": {
  "kernelspec": {
   "display_name": "Python 3",
   "language": "python",
   "name": "python3"
  },
  "language_info": {
   "codemirror_mode": {
    "name": "ipython",
    "version": 3
   },
   "file_extension": ".py",
   "mimetype": "text/x-python",
   "name": "python",
   "nbconvert_exporter": "python",
   "pygments_lexer": "ipython3",
   "version": "3.8.8"
  }
 },
 "nbformat": 4,
 "nbformat_minor": 5
}
